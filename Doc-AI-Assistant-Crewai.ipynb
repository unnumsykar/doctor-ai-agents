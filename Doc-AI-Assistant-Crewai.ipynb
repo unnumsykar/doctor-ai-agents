{
  "nbformat": 4,
  "nbformat_minor": 0,
  "metadata": {
    "colab": {
      "provenance": []
    },
    "kernelspec": {
      "name": "python3",
      "display_name": "Python 3"
    },
    "language_info": {
      "name": "python"
    }
  },
  "cells": [
    {
      "cell_type": "code",
      "execution_count": null,
      "metadata": {
        "colab": {
          "base_uri": "https://localhost:8080/"
        },
        "id": "33q1jnkFRoKq",
        "outputId": "87b5750b-0524-48e7-cdc7-b3d3ddf5917c"
      },
      "outputs": [
        {
          "output_type": "stream",
          "name": "stdout",
          "text": [
            "\u001b[2K     \u001b[90m━━━━━━━━━━━━━━━━━━━━━━━━━━━━━━━━━━━━━━━━\u001b[0m \u001b[32m61.6/61.6 kB\u001b[0m \u001b[31m1.7 MB/s\u001b[0m eta \u001b[36m0:00:00\u001b[0m\n",
            "\u001b[2K     \u001b[90m━━━━━━━━━━━━━━━━━━━━━━━━━━━━━━━━━━━━━━━━\u001b[0m \u001b[32m194.4/194.4 kB\u001b[0m \u001b[31m8.0 MB/s\u001b[0m eta \u001b[36m0:00:00\u001b[0m\n",
            "\u001b[2K     \u001b[90m━━━━━━━━━━━━━━━━━━━━━━━━━━━━━━━━━━━━━━━━\u001b[0m \u001b[32m1.0/1.0 MB\u001b[0m \u001b[31m27.7 MB/s\u001b[0m eta \u001b[36m0:00:00\u001b[0m\n",
            "\u001b[2K     \u001b[90m━━━━━━━━━━━━━━━━━━━━━━━━━━━━━━━━━━━━━━━━\u001b[0m \u001b[32m320.1/320.1 kB\u001b[0m \u001b[31m24.4 MB/s\u001b[0m eta \u001b[36m0:00:00\u001b[0m\n",
            "\u001b[2K     \u001b[90m━━━━━━━━━━━━━━━━━━━━━━━━━━━━━━━━━━━━━━━━\u001b[0m \u001b[32m60.1/60.1 kB\u001b[0m \u001b[31m4.8 MB/s\u001b[0m eta \u001b[36m0:00:00\u001b[0m\n",
            "\u001b[2K     \u001b[90m━━━━━━━━━━━━━━━━━━━━━━━━━━━━━━━━━━━━━━━━\u001b[0m \u001b[32m106.1/106.1 kB\u001b[0m \u001b[31m9.4 MB/s\u001b[0m eta \u001b[36m0:00:00\u001b[0m\n",
            "\u001b[2K     \u001b[90m━━━━━━━━━━━━━━━━━━━━━━━━━━━━━━━━━━━━━━━━\u001b[0m \u001b[32m233.4/233.4 kB\u001b[0m \u001b[31m18.5 MB/s\u001b[0m eta \u001b[36m0:00:00\u001b[0m\n",
            "\u001b[2K     \u001b[90m━━━━━━━━━━━━━━━━━━━━━━━━━━━━━━━━━━━━━━━━\u001b[0m \u001b[32m526.8/526.8 kB\u001b[0m \u001b[31m27.5 MB/s\u001b[0m eta \u001b[36m0:00:00\u001b[0m\n",
            "\u001b[2K     \u001b[90m━━━━━━━━━━━━━━━━━━━━━━━━━━━━━━━━━━━━━━━━\u001b[0m \u001b[32m131.5/131.5 kB\u001b[0m \u001b[31m9.9 MB/s\u001b[0m eta \u001b[36m0:00:00\u001b[0m\n",
            "\u001b[2K     \u001b[90m━━━━━━━━━━━━━━━━━━━━━━━━━━━━━━━━━━━━━━━━\u001b[0m \u001b[32m41.3/41.3 kB\u001b[0m \u001b[31m3.1 MB/s\u001b[0m eta \u001b[36m0:00:00\u001b[0m\n",
            "\u001b[2K     \u001b[90m━━━━━━━━━━━━━━━━━━━━━━━━━━━━━━━━━━━━━━━━\u001b[0m \u001b[32m290.4/290.4 kB\u001b[0m \u001b[31m20.4 MB/s\u001b[0m eta \u001b[36m0:00:00\u001b[0m\n",
            "\u001b[2K     \u001b[90m━━━━━━━━━━━━━━━━━━━━━━━━━━━━━━━━━━━━━━━━\u001b[0m \u001b[32m71.1/71.1 kB\u001b[0m \u001b[31m2.7 MB/s\u001b[0m eta \u001b[36m0:00:00\u001b[0m\n",
            "\u001b[2K     \u001b[90m━━━━━━━━━━━━━━━━━━━━━━━━━━━━━━━━━━━━━━━━\u001b[0m \u001b[32m2.0/2.0 MB\u001b[0m \u001b[31m47.1 MB/s\u001b[0m eta \u001b[36m0:00:00\u001b[0m\n",
            "\u001b[2K     \u001b[90m━━━━━━━━━━━━━━━━━━━━━━━━━━━━━━━━━━━━━━━━\u001b[0m \u001b[32m2.0/2.0 MB\u001b[0m \u001b[31m40.4 MB/s\u001b[0m eta \u001b[36m0:00:00\u001b[0m\n",
            "\u001b[2K     \u001b[90m━━━━━━━━━━━━━━━━━━━━━━━━━━━━━━━━━━━━━━━━\u001b[0m \u001b[32m302.9/302.9 kB\u001b[0m \u001b[31m22.9 MB/s\u001b[0m eta \u001b[36m0:00:00\u001b[0m\n",
            "\u001b[2K     \u001b[90m━━━━━━━━━━━━━━━━━━━━━━━━━━━━━━━━━━━━━━━━\u001b[0m \u001b[32m120.8/120.8 kB\u001b[0m \u001b[31m10.9 MB/s\u001b[0m eta \u001b[36m0:00:00\u001b[0m\n",
            "\u001b[2K     \u001b[90m━━━━━━━━━━━━━━━━━━━━━━━━━━━━━━━━━━━━━━━━\u001b[0m \u001b[32m75.6/75.6 kB\u001b[0m \u001b[31m6.8 MB/s\u001b[0m eta \u001b[36m0:00:00\u001b[0m\n",
            "\u001b[2K     \u001b[90m━━━━━━━━━━━━━━━━━━━━━━━━━━━━━━━━━━━━━━━━\u001b[0m \u001b[32m50.8/50.8 kB\u001b[0m \u001b[31m5.1 MB/s\u001b[0m eta \u001b[36m0:00:00\u001b[0m\n",
            "\u001b[2K     \u001b[90m━━━━━━━━━━━━━━━━━━━━━━━━━━━━━━━━━━━━━━━━\u001b[0m \u001b[32m78.8/78.8 kB\u001b[0m \u001b[31m7.6 MB/s\u001b[0m eta \u001b[36m0:00:00\u001b[0m\n",
            "\u001b[2K     \u001b[90m━━━━━━━━━━━━━━━━━━━━━━━━━━━━━━━━━━━━━━━━\u001b[0m \u001b[32m2.4/2.4 MB\u001b[0m \u001b[31m74.2 MB/s\u001b[0m eta \u001b[36m0:00:00\u001b[0m\n",
            "\u001b[2K     \u001b[90m━━━━━━━━━━━━━━━━━━━━━━━━━━━━━━━━━━━━━━━━\u001b[0m \u001b[32m92.0/92.0 kB\u001b[0m \u001b[31m10.1 MB/s\u001b[0m eta \u001b[36m0:00:00\u001b[0m\n",
            "\u001b[2K     \u001b[90m━━━━━━━━━━━━━━━━━━━━━━━━━━━━━━━━━━━━━━━━\u001b[0m \u001b[32m60.8/60.8 kB\u001b[0m \u001b[31m6.5 MB/s\u001b[0m eta \u001b[36m0:00:00\u001b[0m\n",
            "\u001b[2K     \u001b[90m━━━━━━━━━━━━━━━━━━━━━━━━━━━━━━━━━━━━━━━━\u001b[0m \u001b[32m6.8/6.8 MB\u001b[0m \u001b[31m83.9 MB/s\u001b[0m eta \u001b[36m0:00:00\u001b[0m\n",
            "\u001b[2K     \u001b[90m━━━━━━━━━━━━━━━━━━━━━━━━━━━━━━━━━━━━━━━━\u001b[0m \u001b[32m67.3/67.3 kB\u001b[0m \u001b[31m7.8 MB/s\u001b[0m eta \u001b[36m0:00:00\u001b[0m\n",
            "\u001b[?25h  Installing build dependencies ... \u001b[?25l\u001b[?25hdone\n",
            "  Getting requirements to build wheel ... \u001b[?25l\u001b[?25hdone\n",
            "  Preparing metadata (pyproject.toml) ... \u001b[?25l\u001b[?25hdone\n",
            "\u001b[2K     \u001b[90m━━━━━━━━━━━━━━━━━━━━━━━━━━━━━━━━━━━━━━━━\u001b[0m \u001b[32m283.7/283.7 kB\u001b[0m \u001b[31m23.2 MB/s\u001b[0m eta \u001b[36m0:00:00\u001b[0m\n",
            "\u001b[2K     \u001b[90m━━━━━━━━━━━━━━━━━━━━━━━━━━━━━━━━━━━━━━━━\u001b[0m \u001b[32m1.6/1.6 MB\u001b[0m \u001b[31m43.9 MB/s\u001b[0m eta \u001b[36m0:00:00\u001b[0m\n",
            "\u001b[2K     \u001b[90m━━━━━━━━━━━━━━━━━━━━━━━━━━━━━━━━━━━━━━━━\u001b[0m \u001b[32m67.6/67.6 kB\u001b[0m \u001b[31m4.6 MB/s\u001b[0m eta \u001b[36m0:00:00\u001b[0m\n",
            "\u001b[2K     \u001b[90m━━━━━━━━━━━━━━━━━━━━━━━━━━━━━━━━━━━━━━━━\u001b[0m \u001b[32m142.5/142.5 kB\u001b[0m \u001b[31m15.7 MB/s\u001b[0m eta \u001b[36m0:00:00\u001b[0m\n",
            "\u001b[2K     \u001b[90m━━━━━━━━━━━━━━━━━━━━━━━━━━━━━━━━━━━━━━━━\u001b[0m \u001b[32m49.3/49.3 kB\u001b[0m \u001b[31m4.8 MB/s\u001b[0m eta \u001b[36m0:00:00\u001b[0m\n",
            "\u001b[2K     \u001b[90m━━━━━━━━━━━━━━━━━━━━━━━━━━━━━━━━━━━━━━━━\u001b[0m \u001b[32m77.9/77.9 kB\u001b[0m \u001b[31m8.4 MB/s\u001b[0m eta \u001b[36m0:00:00\u001b[0m\n",
            "\u001b[2K     \u001b[90m━━━━━━━━━━━━━━━━━━━━━━━━━━━━━━━━━━━━━━━━\u001b[0m \u001b[32m58.3/58.3 kB\u001b[0m \u001b[31m6.3 MB/s\u001b[0m eta \u001b[36m0:00:00\u001b[0m\n",
            "\u001b[2K     \u001b[90m━━━━━━━━━━━━━━━━━━━━━━━━━━━━━━━━━━━━━━━━\u001b[0m \u001b[32m53.0/53.0 kB\u001b[0m \u001b[31m4.6 MB/s\u001b[0m eta \u001b[36m0:00:00\u001b[0m\n",
            "\u001b[2K     \u001b[90m━━━━━━━━━━━━━━━━━━━━━━━━━━━━━━━━━━━━━━━━\u001b[0m \u001b[32m71.9/71.9 kB\u001b[0m \u001b[31m7.6 MB/s\u001b[0m eta \u001b[36m0:00:00\u001b[0m\n",
            "\u001b[2K     \u001b[90m━━━━━━━━━━━━━━━━━━━━━━━━━━━━━━━━━━━━━━━━\u001b[0m \u001b[32m53.2/53.2 kB\u001b[0m \u001b[31m5.7 MB/s\u001b[0m eta \u001b[36m0:00:00\u001b[0m\n",
            "\u001b[2K     \u001b[90m━━━━━━━━━━━━━━━━━━━━━━━━━━━━━━━━━━━━━━━━\u001b[0m \u001b[32m46.0/46.0 kB\u001b[0m \u001b[31m4.5 MB/s\u001b[0m eta \u001b[36m0:00:00\u001b[0m\n",
            "\u001b[2K     \u001b[90m━━━━━━━━━━━━━━━━━━━━━━━━━━━━━━━━━━━━━━━━\u001b[0m \u001b[32m341.4/341.4 kB\u001b[0m \u001b[31m30.2 MB/s\u001b[0m eta \u001b[36m0:00:00\u001b[0m\n",
            "\u001b[2K     \u001b[90m━━━━━━━━━━━━━━━━━━━━━━━━━━━━━━━━━━━━━━━━\u001b[0m \u001b[32m3.4/3.4 MB\u001b[0m \u001b[31m83.4 MB/s\u001b[0m eta \u001b[36m0:00:00\u001b[0m\n",
            "\u001b[2K     \u001b[90m━━━━━━━━━━━━━━━━━━━━━━━━━━━━━━━━━━━━━━━━\u001b[0m \u001b[32m1.3/1.3 MB\u001b[0m \u001b[31m74.1 MB/s\u001b[0m eta \u001b[36m0:00:00\u001b[0m\n",
            "\u001b[2K     \u001b[90m━━━━━━━━━━━━━━━━━━━━━━━━━━━━━━━━━━━━━━━━\u001b[0m \u001b[32m130.2/130.2 kB\u001b[0m \u001b[31m13.3 MB/s\u001b[0m eta \u001b[36m0:00:00\u001b[0m\n",
            "\u001b[2K     \u001b[90m━━━━━━━━━━━━━━━━━━━━━━━━━━━━━━━━━━━━━━━━\u001b[0m \u001b[32m307.7/307.7 kB\u001b[0m \u001b[31m27.4 MB/s\u001b[0m eta \u001b[36m0:00:00\u001b[0m\n",
            "\u001b[2K     \u001b[90m━━━━━━━━━━━━━━━━━━━━━━━━━━━━━━━━━━━━━━━━\u001b[0m \u001b[32m91.8/91.8 kB\u001b[0m \u001b[31m10.5 MB/s\u001b[0m eta \u001b[36m0:00:00\u001b[0m\n",
            "\u001b[2K     \u001b[90m━━━━━━━━━━━━━━━━━━━━━━━━━━━━━━━━━━━━━━━━\u001b[0m \u001b[32m86.8/86.8 kB\u001b[0m \u001b[31m8.7 MB/s\u001b[0m eta \u001b[36m0:00:00\u001b[0m\n",
            "\u001b[?25h  Building wheel for pypika (pyproject.toml) ... \u001b[?25l\u001b[?25hdone\n"
          ]
        }
      ],
      "source": [
        "!pip install -q crewai"
      ]
    },
    {
      "cell_type": "code",
      "source": [
        "!pip install -q 'crewai[tools]'"
      ],
      "metadata": {
        "colab": {
          "base_uri": "https://localhost:8080/"
        },
        "id": "sUPSGOxTRuX0",
        "outputId": "dce89497-e24c-40ff-b794-e4f05c0f3e8d"
      },
      "execution_count": null,
      "outputs": [
        {
          "output_type": "stream",
          "name": "stdout",
          "text": [
            "\u001b[2K     \u001b[90m━━━━━━━━━━━━━━━━━━━━━━━━━━━━━━━━━━━━━━━━\u001b[0m \u001b[32m48.0/48.0 kB\u001b[0m \u001b[31m1.5 MB/s\u001b[0m eta \u001b[36m0:00:00\u001b[0m\n",
            "\u001b[2K     \u001b[90m━━━━━━━━━━━━━━━━━━━━━━━━━━━━━━━━━━━━━━━━\u001b[0m \u001b[32m525.5/525.5 kB\u001b[0m \u001b[31m11.1 MB/s\u001b[0m eta \u001b[36m0:00:00\u001b[0m\n",
            "\u001b[2K     \u001b[90m━━━━━━━━━━━━━━━━━━━━━━━━━━━━━━━━━━━━━━━━\u001b[0m \u001b[32m115.1/115.1 kB\u001b[0m \u001b[31m8.6 MB/s\u001b[0m eta \u001b[36m0:00:00\u001b[0m\n",
            "\u001b[2K     \u001b[90m━━━━━━━━━━━━━━━━━━━━━━━━━━━━━━━━━━━━━━━━\u001b[0m \u001b[32m339.2/339.2 kB\u001b[0m \u001b[31m22.1 MB/s\u001b[0m eta \u001b[36m0:00:00\u001b[0m\n",
            "\u001b[2K     \u001b[90m━━━━━━━━━━━━━━━━━━━━━━━━━━━━━━━━━━━━━━━━\u001b[0m \u001b[32m57.6/57.6 kB\u001b[0m \u001b[31m6.3 MB/s\u001b[0m eta \u001b[36m0:00:00\u001b[0m\n",
            "\u001b[2K     \u001b[90m━━━━━━━━━━━━━━━━━━━━━━━━━━━━━━━━━━━━━━━━\u001b[0m \u001b[32m9.5/9.5 MB\u001b[0m \u001b[31m79.1 MB/s\u001b[0m eta \u001b[36m0:00:00\u001b[0m\n",
            "\u001b[2K     \u001b[90m━━━━━━━━━━━━━━━━━━━━━━━━━━━━━━━━━━━━━━━━\u001b[0m \u001b[32m192.7/192.7 kB\u001b[0m \u001b[31m19.2 MB/s\u001b[0m eta \u001b[36m0:00:00\u001b[0m\n",
            "\u001b[2K     \u001b[90m━━━━━━━━━━━━━━━━━━━━━━━━━━━━━━━━━━━━━━━━\u001b[0m \u001b[32m278.2/278.2 kB\u001b[0m \u001b[31m25.3 MB/s\u001b[0m eta \u001b[36m0:00:00\u001b[0m\n",
            "\u001b[2K     \u001b[90m━━━━━━━━━━━━━━━━━━━━━━━━━━━━━━━━━━━━━━━━\u001b[0m \u001b[32m5.4/5.4 MB\u001b[0m \u001b[31m50.5 MB/s\u001b[0m eta \u001b[36m0:00:00\u001b[0m\n",
            "\u001b[2K     \u001b[90m━━━━━━━━━━━━━━━━━━━━━━━━━━━━━━━━━━━━━━━━\u001b[0m \u001b[32m342.2/342.2 kB\u001b[0m \u001b[31m29.2 MB/s\u001b[0m eta \u001b[36m0:00:00\u001b[0m\n",
            "\u001b[2K     \u001b[90m━━━━━━━━━━━━━━━━━━━━━━━━━━━━━━━━━━━━━━━━\u001b[0m \u001b[32m207.3/207.3 kB\u001b[0m \u001b[31m3.0 MB/s\u001b[0m eta \u001b[36m0:00:00\u001b[0m\n",
            "\u001b[2K     \u001b[90m━━━━━━━━━━━━━━━━━━━━━━━━━━━━━━━━━━━━━━━━\u001b[0m \u001b[32m3.0/3.0 MB\u001b[0m \u001b[31m80.7 MB/s\u001b[0m eta \u001b[36m0:00:00\u001b[0m\n",
            "\u001b[2K     \u001b[90m━━━━━━━━━━━━━━━━━━━━━━━━━━━━━━━━━━━━━━━━\u001b[0m \u001b[32m21.6/21.6 MB\u001b[0m \u001b[31m61.6 MB/s\u001b[0m eta \u001b[36m0:00:00\u001b[0m\n",
            "\u001b[2K     \u001b[90m━━━━━━━━━━━━━━━━━━━━━━━━━━━━━━━━━━━━━━━━\u001b[0m \u001b[32m467.2/467.2 kB\u001b[0m \u001b[31m17.0 MB/s\u001b[0m eta \u001b[36m0:00:00\u001b[0m\n",
            "\u001b[2K     \u001b[90m━━━━━━━━━━━━━━━━━━━━━━━━━━━━━━━━━━━━━━━━\u001b[0m \u001b[32m62.7/62.7 kB\u001b[0m \u001b[31m3.8 MB/s\u001b[0m eta \u001b[36m0:00:00\u001b[0m\n",
            "\u001b[2K     \u001b[90m━━━━━━━━━━━━━━━━━━━━━━━━━━━━━━━━━━━━━━━━\u001b[0m \u001b[32m856.7/856.7 kB\u001b[0m \u001b[31m36.6 MB/s\u001b[0m eta \u001b[36m0:00:00\u001b[0m\n",
            "\u001b[2K     \u001b[90m━━━━━━━━━━━━━━━━━━━━━━━━━━━━━━━━━━━━━━━━\u001b[0m \u001b[32m98.7/98.7 kB\u001b[0m \u001b[31m9.4 MB/s\u001b[0m eta \u001b[36m0:00:00\u001b[0m\n",
            "\u001b[2K     \u001b[90m━━━━━━━━━━━━━━━━━━━━━━━━━━━━━━━━━━━━━━━━\u001b[0m \u001b[32m194.4/194.4 kB\u001b[0m \u001b[31m9.0 MB/s\u001b[0m eta \u001b[36m0:00:00\u001b[0m\n",
            "\u001b[2K     \u001b[90m━━━━━━━━━━━━━━━━━━━━━━━━━━━━━━━━━━━━━━━━\u001b[0m \u001b[32m2.1/2.1 MB\u001b[0m \u001b[31m55.1 MB/s\u001b[0m eta \u001b[36m0:00:00\u001b[0m\n",
            "\u001b[2K     \u001b[90m━━━━━━━━━━━━━━━━━━━━━━━━━━━━━━━━━━━━━━━━\u001b[0m \u001b[32m3.0/3.0 MB\u001b[0m \u001b[31m51.9 MB/s\u001b[0m eta \u001b[36m0:00:00\u001b[0m\n",
            "\u001b[?25h"
          ]
        }
      ]
    },
    {
      "cell_type": "code",
      "source": [
        "!pip install python-dotenv"
      ],
      "metadata": {
        "colab": {
          "base_uri": "https://localhost:8080/"
        },
        "id": "etGuAN9qRwVy",
        "outputId": "8a903291-742e-463d-f948-034011fbfe26"
      },
      "execution_count": null,
      "outputs": [
        {
          "output_type": "stream",
          "name": "stdout",
          "text": [
            "Requirement already satisfied: python-dotenv in /usr/local/lib/python3.10/dist-packages (1.0.0)\n"
          ]
        }
      ]
    },
    {
      "cell_type": "code",
      "source": [
        "%load_ext dotenv\n",
        "%dotenv"
      ],
      "metadata": {
        "id": "xIbZ39a7Ryei",
        "colab": {
          "base_uri": "https://localhost:8080/"
        },
        "outputId": "e2909a33-6b79-4da1-b33e-f32a90eff733"
      },
      "execution_count": null,
      "outputs": [
        {
          "output_type": "stream",
          "name": "stdout",
          "text": [
            "The dotenv extension is already loaded. To reload it, use:\n",
            "  %reload_ext dotenv\n"
          ]
        }
      ]
    },
    {
      "cell_type": "code",
      "source": [
        "import os\n",
        "from crewai import Agent, Task, Crew, Process\n",
        "from crewai_tools import SerperDevTool"
      ],
      "metadata": {
        "id": "XcdUuweBR0Eg"
      },
      "execution_count": null,
      "outputs": []
    },
    {
      "cell_type": "code",
      "source": [
        "search_tool = SerperDevTool()"
      ],
      "metadata": {
        "id": "e6BFyh17R1xY"
      },
      "execution_count": null,
      "outputs": []
    },
    {
      "cell_type": "code",
      "source": [
        "from langchain_openai import ChatOpenAI"
      ],
      "metadata": {
        "id": "6T1p1-c_R3fJ"
      },
      "execution_count": null,
      "outputs": []
    },
    {
      "cell_type": "code",
      "source": [
        "# define your agents with roles and goals\n",
        "researcher  = Agent(\n",
        "    role = \"seasoned medical professional Expert in Medical Domain Writing\",\n",
        "    goal = \"help doctors, specialists, medical professionals stay updated on new research, indications, trends in medical domain and its related domains.\",\n",
        "    backstory = \"\"\" You're a dedicated medical professional committed to staying updated with the latest research and trends.\n",
        "      However, navigating dense medical literature can be time-consuming and challenging. Motivated to bridge this gap, you envisioned\n",
        "      an AI tool tailored to simplify the process. With your passion for innovation, you embarked on creating an AI agent to provide\n",
        "      concise summaries of complex research, helping you stay informed and deliver the best care to your patients.\"\"\",\n",
        "    verbose=True,\n",
        "    allow_delegation=False,\n",
        "    tools=[search_tool],\n",
        "    llm=ChatOpenAI(model_name=\"gpt-3.5-turbo\", temperature=0.3)\n",
        ")"
      ],
      "metadata": {
        "id": "BnXCurIhR5IT"
      },
      "execution_count": null,
      "outputs": []
    },
    {
      "cell_type": "code",
      "source": [
        "writer = Agent(\n",
        "    role = \"professional medical domains, research short summarized , simplified writer for doctors and medical professionals\",\n",
        "    goal = \"summarize in concise bullet points the new research papers, trends new indications in medical, medicine, all oteher medical domains to help doctors, specialists, medical professionals stay updated on new research, indications, trends in medical domain and its related domains.\",\n",
        "    backstory = \"\"\"You're a dedicated medical professional committed to staying updated with the latest research and trends. Have extensive experience in writing technical medical domains artickes, summariies for doctors, specialists, medical professionals.\"\"\",\n",
        "    verbose=True,\n",
        "    allow_delegation=True,\n",
        "    llm=ChatOpenAI(model_name=\"gpt-3.5-turbo\", temperature=0.7)\n",
        ")"
      ],
      "metadata": {
        "id": "Gosk4IolR6wi"
      },
      "execution_count": null,
      "outputs": []
    },
    {
      "cell_type": "code",
      "source": [
        "#create tasks for your agents\n",
        "task1 = Task(\n",
        "    description = \"\"\"conduct a comprehensive analysis of the latest advancements to help doctors, specialists, medical professionals stay updated on new research, indications, trends in medical domain and its related domains.\"\"\",\n",
        "    expected_output = \"Full analysis report in bullet points\",\n",
        "    agent=researcher\n",
        ")"
      ],
      "metadata": {
        "id": "EyerdUNvR8em"
      },
      "execution_count": null,
      "outputs": []
    },
    {
      "cell_type": "code",
      "source": [
        "task2 = Task(\n",
        "    description = \"\"\"using the insights provided, write summaries of all latest reearch papers, trends, indications in all medical domains which will be helpful for doctors.\"\"\",\n",
        "    expected_output = \"Best to the point summaries explaning important things in bullet points about new research , trends, new indications for doctors.\",\n",
        "    agent=writer\n",
        ")"
      ],
      "metadata": {
        "id": "jw3WbZ9xR-Ql"
      },
      "execution_count": null,
      "outputs": []
    },
    {
      "cell_type": "code",
      "source": [
        "\n",
        "# instantiate your crew with a sequential process\n",
        "crew = Crew(\n",
        "    agents = [researcher, writer],\n",
        "    tasks = [task1,task2],\n",
        "    verbose = 1,\n",
        ")"
      ],
      "metadata": {
        "id": "j04DZsVUR_7b",
        "colab": {
          "base_uri": "https://localhost:8080/"
        },
        "outputId": "cc37eb33-cb2a-4602-d503-fae59aeaa463"
      },
      "execution_count": null,
      "outputs": [
        {
          "output_type": "stream",
          "name": "stderr",
          "text": [
            "WARNING:opentelemetry.trace:Overriding of current TracerProvider is not allowed\n"
          ]
        }
      ]
    },
    {
      "cell_type": "code",
      "source": [
        "result = crew.kickoff()\n",
        "print('##################')\n",
        "print(result)"
      ],
      "metadata": {
        "colab": {
          "base_uri": "https://localhost:8080/"
        },
        "id": "IbOEy5qCTryg",
        "outputId": "b7fecca0-7fa4-400f-b5ce-05f9f328a089"
      },
      "execution_count": null,
      "outputs": [
        {
          "output_type": "stream",
          "name": "stdout",
          "text": [
            "\u001b[1m\u001b[95m [DEBUG]: == Working Agent: seasoned medical professional Expert in Medical Domain Writing\u001b[00m\n",
            "\n",
            "\n",
            "\u001b[1m> Entering new CrewAgentExecutor chain...\u001b[0m\n",
            "\u001b[32;1m\u001b[1;3mI need to conduct a comprehensive analysis of the latest advancements in the medical domain to help doctors, specialists, and medical professionals stay updated on new research, indications, trends, and related domains.\n",
            "\n",
            "Action: Search the internet\n",
            "Action Input: {\"search_query\": \"latest advancements in medical domain\"}\u001b[0m\u001b[95m \n",
            "\n",
            "\n",
            "Search results: Title: 5 medical advances that will change patient care | AAMC\n",
            "Link: https://www.aamc.org/news/5-medical-advances-will-change-patient-care\n",
            "Snippet: Every day, scientists strive to solve some of medicine's toughest questions. · An RSV vaccine · Record-breaking gene sequencing · Delaying diabetes ...\n",
            "---\n",
            "Title: 8 Medical Innovations to Watch in 2023 - AMN Healthcare\n",
            "Link: https://www.amnhealthcare.com/blog/physician/perm/8-medical-innovations-in-2023/\n",
            "Snippet: 1. Advancing mRNA Technology · 2. Patients Embracing Telehealth · 3. Adapting to Data Integration and AI · 4. Securing Healthcare Data · 5. Creating ...\n",
            "---\n",
            "Title: Five healthcare technology trends in 2024 - Medtronic\n",
            "Link: https://news.medtronic.com/five-healthcare-technology-trends-in-2024-newsroom\n",
            "Snippet: From generative AI to surgical robots, healthcare technology is a fast-moving vehicle for innovation. In 2024, advancements in technology will ...\n",
            "---\n",
            "Title: Five amazing health research breakthroughs in the last 12 months\n",
            "Link: https://bepartofresearch.nihr.ac.uk/Articles/Health-research-breakthroughs/\n",
            "Snippet: 1. The Oxford/AstraZeneca COVID-19 Vaccine · 2. The human liver repaired using lab-grown cells · 3. The super effective single-dose breast cancer treatment · 4.\n",
            "---\n",
            "Title: Health & Medicine News - ScienceDaily\n",
            "Link: https://www.sciencedaily.com/news/health_medicine/\n",
            "Snippet: Earlier Headlines. Summaries; Headlines. AI Advancements Make the Leap Into 3D Pathology Possible. May 9, 2024 — Researchers present Tripath: new, deep learning ...\n",
            "---\n",
            "Title: Recent Advancements in Emerging Technologies for Healthcare ...\n",
            "Link: https://www.ncbi.nlm.nih.gov/pmc/articles/PMC9601636/\n",
            "Snippet: The subsequent phase in healthcare is to seamlessly consolidate these emerging technologies such as IoT-assisted wearable sensor devices, AI, ...\n",
            "---\n",
            "Title: Top 10 new medical technologies 2022 | Proclinical Blogs\n",
            "Link: https://www.proclinical.com/blogs/2022-4/top-10-new-medical-technologies-2022\n",
            "Snippet: 1. mRNA technology. mRNA technology has been put under the spotlight recently as the new vaccines for Covid-19 use this science. · 2. Virtual ...\n",
            "---\n",
            "Title: The 6 Most Exciting Medical Technology Breakthroughs Of Recent ...\n",
            "Link: https://www.linkedin.com/pulse/6-most-exciting-medical-technology-breakthroughs-mesk%C3%B3-md-phd-6apne\n",
            "Snippet: The 6 Most Exciting Medical Technology Breakthroughs Of Recent Years · 1. CRISPR and gene editing · 2. mRNA vaccines · 3. Telemedicine and virtual ...\n",
            "---\n",
            "Title: The 10 Biggest Trends Revolutionizing Healthcare In 2024 - Forbes\n",
            "Link: https://www.forbes.com/sites/bernardmarr/2023/10/03/the-10-biggest-trends-revolutionizing-healthcare-in-2024/\n",
            "Snippet: The 10 Biggest Trends Revolutionizing Healthcare In 2024 · Generative AI In Healthcare · Personalized Medicine · Virtual Healthcare Assistants.\n",
            "---\n",
            "\n",
            "\u001b[00m\n",
            "\u001b[32;1m\u001b[1;3mFinal Answer: \n",
            "\n",
            "- 5 medical advances that will change patient care:\n",
            "  - RSV vaccine\n",
            "  - Record-breaking gene sequencing\n",
            "  - Delaying diabetes\n",
            "\n",
            "- 8 Medical Innovations to Watch in 2023:\n",
            "  - Advancing mRNA Technology\n",
            "  - Patients Embracing Telehealth\n",
            "  - Adapting to Data Integration and AI\n",
            "  - Securing Healthcare Data\n",
            "  - Creating\n",
            "\n",
            "- Five healthcare technology trends in 2024:\n",
            "  - Generative AI\n",
            "  - Surgical robots\n",
            "  - Advancements in technology\n",
            "\n",
            "- Five amazing health research breakthroughs in the last 12 months:\n",
            "  - Oxford/AstraZeneca COVID-19 Vaccine\n",
            "  - Human liver repaired using lab-grown cells\n",
            "  - Super effective single-dose breast cancer treatment\n",
            "\n",
            "- Recent Advancements in Emerging Technologies for Healthcare:\n",
            "  - Seamless consolidation of emerging technologies\n",
            "  - IoT-assisted wearable sensor devices\n",
            "  - AI integration\n",
            "\n",
            "- Top 10 new medical technologies 2022:\n",
            "  - mRNA technology\n",
            "  - Virtual healthcare\n",
            "\n",
            "- The 6 Most Exciting Medical Technology Breakthroughs Of Recent Years:\n",
            "  - CRISPR and gene editing\n",
            "  - mRNA vaccines\n",
            "  - Telemedicine and virtual care\n",
            "\n",
            "- The 10 Biggest Trends Revolutionizing Healthcare In 2024:\n",
            "  - Generative AI In Healthcare\n",
            "  - Personalized Medicine\n",
            "  - Virtual Healthcare Assistants\u001b[0m\n",
            "\n",
            "\u001b[1m> Finished chain.\u001b[0m\n",
            "\u001b[1m\u001b[92m [DEBUG]: == [seasoned medical professional Expert in Medical Domain Writing] Task output: - 5 medical advances that will change patient care:\n",
            "  - RSV vaccine\n",
            "  - Record-breaking gene sequencing\n",
            "  - Delaying diabetes\n",
            "\n",
            "- 8 Medical Innovations to Watch in 2023:\n",
            "  - Advancing mRNA Technology\n",
            "  - Patients Embracing Telehealth\n",
            "  - Adapting to Data Integration and AI\n",
            "  - Securing Healthcare Data\n",
            "  - Creating\n",
            "\n",
            "- Five healthcare technology trends in 2024:\n",
            "  - Generative AI\n",
            "  - Surgical robots\n",
            "  - Advancements in technology\n",
            "\n",
            "- Five amazing health research breakthroughs in the last 12 months:\n",
            "  - Oxford/AstraZeneca COVID-19 Vaccine\n",
            "  - Human liver repaired using lab-grown cells\n",
            "  - Super effective single-dose breast cancer treatment\n",
            "\n",
            "- Recent Advancements in Emerging Technologies for Healthcare:\n",
            "  - Seamless consolidation of emerging technologies\n",
            "  - IoT-assisted wearable sensor devices\n",
            "  - AI integration\n",
            "\n",
            "- Top 10 new medical technologies 2022:\n",
            "  - mRNA technology\n",
            "  - Virtual healthcare\n",
            "\n",
            "- The 6 Most Exciting Medical Technology Breakthroughs Of Recent Years:\n",
            "  - CRISPR and gene editing\n",
            "  - mRNA vaccines\n",
            "  - Telemedicine and virtual care\n",
            "\n",
            "- The 10 Biggest Trends Revolutionizing Healthcare In 2024:\n",
            "  - Generative AI In Healthcare\n",
            "  - Personalized Medicine\n",
            "  - Virtual Healthcare Assistants\n",
            "\n",
            "\u001b[00m\n",
            "\u001b[1m\u001b[95m [DEBUG]: == Working Agent: professional medical domains, research short summarized , simplified writer for doctors and medical professionals\u001b[00m\n",
            "\n",
            "\n",
            "\u001b[1m> Entering new CrewAgentExecutor chain...\u001b[0m\n",
            "\u001b[32;1m\u001b[1;3mI need to gather insights on the latest research papers, trends, and indications in various medical domains to provide concise and informative summaries for doctors.\n",
            "\n",
            "Action: Delegate work to co-worker\n",
            "Action Input: {\"coworker\": \"seasoned medical professional Expert in Medical Domain Writing\", \"task\": \"Write summaries of the latest research papers, trends, and indications in various medical domains\", \"context\": \"Need concise bullet points to help doctors stay updated\"}\u001b[0m\n",
            "\n",
            "\u001b[1m> Entering new CrewAgentExecutor chain...\u001b[0m\n",
            "\u001b[32;1m\u001b[1;3mI need to use the \"Search the internet\" tool to find concise summaries of the latest research papers, trends, and indications in various medical domains.\n",
            "\n",
            "Action: Search the internet\n",
            "Action Input: {\"search_query\": \"latest research papers trends indications in medical domain\"}\u001b[0m\u001b[95m \n",
            "\n",
            "\n",
            "Search results: Title: Analysis of Publication Activity and Research Trends in the Field of ...\n",
            "Link: https://www.ncbi.nlm.nih.gov/pmc/articles/PMC10094658/\n",
            "Snippet: Currently, the main areas of research and development in the field of medical AI technologies are diagnostics and prognosis of diseases and ...\n",
            "---\n",
            "Title: Trends in Health Quality–Related Publications Over the Past Three ...\n",
            "Link: https://www.ncbi.nlm.nih.gov/pmc/articles/PMC9579930/\n",
            "Snippet: Over the past 31 years, the field of quality in health care has seen a significant yearly increase of published original studies with a relative stagnation ...\n",
            "---\n",
            "Title: Unveiling Recent Trends in Biomedical Artificial Intelligence Research\n",
            "Link: https://www.mdpi.com/2076-3417/14/2/785\n",
            "Snippet: This review analyzes the most influential artificial intelligence (AI) studies in health and life sciences from the past three years, delineating the ...\n",
            "---\n",
            "Title: Revealing the Trends in the Academic Landscape of the Health ...\n",
            "Link: https://direct.mit.edu/dint/article/5/4/923/116343/Revealing-the-Trends-in-the-Academic-Landscape-of\n",
            "Snippet: We developed a novel contextual topic modeling approach that incorporates corpus tuning and mean pooling techniques to design healthcare Bert ...\n",
            "---\n",
            "Title: The 10 Biggest Trends Revolutionizing Healthcare In 2024 - Forbes\n",
            "Link: https://www.forbes.com/sites/bernardmarr/2023/10/03/the-10-biggest-trends-revolutionizing-healthcare-in-2024/\n",
            "Snippet: Exploring uncharted waters, the healthcare landscape in 2024 unveils transformative trends like generative AI, personalized medicine and ...\n",
            "---\n",
            "Title: JAMA – The Latest Medical Research, Reviews, and Guidelines\n",
            "Link: https://jamanetwork.com/journals/jama\n",
            "Snippet: Explore the latest in medicine including the JNC8 blood pressure guideline, sepsis and ARDS definitions, autism science, cancer screening guidelines, and.\n",
            "---\n",
            "Title: Latest Trends in Medical Research 2023 - LinkedIn\n",
            "Link: https://www.linkedin.com/pulse/latest-trends-medical-research-2023-vigilare-biopharma-pvt-ltd\n",
            "Snippet: From breakthrough discoveries to cutting-edge technologies, medical research continually uncovers new insights and transforms the way we ...\n",
            "---\n",
            "Title: Revolutionizing healthcare: the role of artificial intelligence in clinical ...\n",
            "Link: https://bmcmededuc.biomedcentral.com/articles/10.1186/s12909-023-04698-z\n",
            "Snippet: This review article aims to explore the current state of AI in healthcare ... A recent study evaluated the utility of a ... Trends in Medicine.\n",
            "---\n",
            "Title: The next generation of evidence-based medicine - Nature\n",
            "Link: https://www.nature.com/articles/s41591-022-02160-z\n",
            "Snippet: Recently, advances in wearable technologies, data science and machine learning have begun to transform evidence-based medicine, ...\n",
            "---\n",
            "Title: 77 interesting medical research topics for 2024 - Dovetail\n",
            "Link: https://dovetail.com/research/interesting-medical-research-topics/\n",
            "Snippet: Discover the most interesting topics to explore in medical research. Read on to learn more about what's new and exciting in medicine and ...\n",
            "---\n",
            "\n",
            "\u001b[00m\n",
            "\u001b[32;1m\u001b[1;3mFinal Answer: \n",
            "Here are some concise summaries of the latest research papers, trends, and indications in various medical domains:\n",
            "\n",
            "1. Analysis of Publication Activity and Research Trends in the Field of Medical AI Technologies: Currently, the main areas of research and development in the field of medical AI technologies are diagnostics and prognosis of diseases.\n",
            "   Link: [Analysis of Publication Activity and Research Trends](https://www.ncbi.nlm.nih.gov/pmc/articles/PMC10094658/)\n",
            "\n",
            "2. Trends in Health Quality–Related Publications: Over the past 31 years, the field of quality in health care has seen a significant yearly increase of published original studies.\n",
            "   Link: [Trends in Health Quality–Related Publications](https://www.ncbi.nlm.nih.gov/pmc/articles/PMC9579930/)\n",
            "\n",
            "3. Unveiling Recent Trends in Biomedical Artificial Intelligence Research: This review analyzes the most influential artificial intelligence (AI) studies in health and life sciences from the past three years.\n",
            "   Link: [Unveiling Recent Trends in Biomedical AI Research](https://www.mdpi.com/2076-3417/14/2/785)\n",
            "\n",
            "4. The 10 Biggest Trends Revolutionizing Healthcare In 2024: Transformative trends like generative AI, personalized medicine are shaping the healthcare landscape in 2024.\n",
            "   Link: [The 10 Biggest Trends Revolutionizing Healthcare In 2024](https://www.forbes.com/sites/bernardmarr/2023/10/03/the-10-biggest-trends-revolutionizing-healthcare-in-2024/)\n",
            "\n",
            "5. Latest Trends in Medical Research 2023: From breakthrough discoveries to cutting-edge technologies, medical research continually uncovers new insights.\n",
            "   Link: [Latest Trends in Medical Research 2023](https://www.linkedin.com/pulse/latest-trends-medical-research-2023-vigilare-biopharma-pvt-ltd)\n",
            "\n",
            "6. Revolutionizing healthcare: the role of artificial intelligence in clinical settings: This review article explores the current state of AI in healthcare and its utility in clinical settings.\n",
            "   Link: [Revolutionizing healthcare: the role of artificial intelligence in clinical settings](https://bmcmededuc.biomedcentral.com/articles/10.1186/s12909-023-04698-z)\n",
            "\n",
            "7. The next generation of evidence-based medicine: Advances in wearable technologies, data science, and machine learning are transforming evidence-based medicine.\n",
            "   Link: [The next generation of evidence-based medicine](https://www.nature.com/articles/s41591-022-02160-z)\n",
            "\n",
            "8. 77 interesting medical research topics for 2024: Discover the most interesting topics to explore in medical research and stay updated on new and exciting developments in medicine.\n",
            "   Link: [77 interesting medical research topics for 2024](https://dovetail.com/research/interesting-medical-research-topics/)\u001b[0m\n",
            "\n",
            "\u001b[1m> Finished chain.\u001b[0m\n",
            "\u001b[95m \n",
            "\n",
            "Here are some concise summaries of the latest research papers, trends, and indications in various medical domains:\n",
            "\n",
            "1. Analysis of Publication Activity and Research Trends in the Field of Medical AI Technologies: Currently, the main areas of research and development in the field of medical AI technologies are diagnostics and prognosis of diseases.\n",
            "   Link: [Analysis of Publication Activity and Research Trends](https://www.ncbi.nlm.nih.gov/pmc/articles/PMC10094658/)\n",
            "\n",
            "2. Trends in Health Quality–Related Publications: Over the past 31 years, the field of quality in health care has seen a significant yearly increase of published original studies.\n",
            "   Link: [Trends in Health Quality–Related Publications](https://www.ncbi.nlm.nih.gov/pmc/articles/PMC9579930/)\n",
            "\n",
            "3. Unveiling Recent Trends in Biomedical Artificial Intelligence Research: This review analyzes the most influential artificial intelligence (AI) studies in health and life sciences from the past three years.\n",
            "   Link: [Unveiling Recent Trends in Biomedical AI Research](https://www.mdpi.com/2076-3417/14/2/785)\n",
            "\n",
            "4. The 10 Biggest Trends Revolutionizing Healthcare In 2024: Transformative trends like generative AI, personalized medicine are shaping the healthcare landscape in 2024.\n",
            "   Link: [The 10 Biggest Trends Revolutionizing Healthcare In 2024](https://www.forbes.com/sites/bernardmarr/2023/10/03/the-10-biggest-trends-revolutionizing-healthcare-in-2024/)\n",
            "\n",
            "5. Latest Trends in Medical Research 2023: From breakthrough discoveries to cutting-edge technologies, medical research continually uncovers new insights.\n",
            "   Link: [Latest Trends in Medical Research 2023](https://www.linkedin.com/pulse/latest-trends-medical-research-2023-vigilare-biopharma-pvt-ltd)\n",
            "\n",
            "6. Revolutionizing healthcare: the role of artificial intelligence in clinical settings: This review article explores the current state of AI in healthcare and its utility in clinical settings.\n",
            "   Link: [Revolutionizing healthcare: the role of artificial intelligence in clinical settings](https://bmcmededuc.biomedcentral.com/articles/10.1186/s12909-023-04698-z)\n",
            "\n",
            "7. The next generation of evidence-based medicine: Advances in wearable technologies, data science, and machine learning are transforming evidence-based medicine.\n",
            "   Link: [The next generation of evidence-based medicine](https://www.nature.com/articles/s41591-022-02160-z)\n",
            "\n",
            "8. 77 interesting medical research topics for 2024: Discover the most interesting topics to explore in medical research and stay updated on new and exciting developments in medicine.\n",
            "   Link: [77 interesting medical research topics for 2024](https://dovetail.com/research/interesting-medical-research-topics/)\n",
            "\u001b[00m\n",
            "\u001b[32;1m\u001b[1;3mFinal Answer:\n",
            "- Analysis of Publication Activity and Research Trends in the Field of Medical AI Technologies: Currently, the main areas of research and development in the field of medical AI technologies are diagnostics and prognosis of diseases.\n",
            "   Link: [Analysis of Publication Activity and Research Trends](https://www.ncbi.nlm.nih.gov/pmc/articles/PMC10094658/)\n",
            "\n",
            "- Trends in Health Quality–Related Publications: Over the past 31 years, the field of quality in health care has seen a significant yearly increase of published original studies.\n",
            "   Link: [Trends in Health Quality–Related Publications](https://www.ncbi.nlm.nih.gov/pmc/articles/PMC9579930/)\n",
            "\n",
            "- Unveiling Recent Trends in Biomedical Artificial Intelligence Research: This review analyzes the most influential artificial intelligence (AI) studies in health and life sciences from the past three years.\n",
            "   Link: [Unveiling Recent Trends in Biomedical AI Research](https://www.mdpi.com/2076-3417/14/2/785)\n",
            "\n",
            "- The 10 Biggest Trends Revolutionizing Healthcare In 2024: Transformative trends like generative AI, personalized medicine are shaping the healthcare landscape in 2024.\n",
            "   Link: [The 10 Biggest Trends Revolutionizing Healthcare In 2024](https://www.forbes.com/sites/bernardmarr/2023/10/03/the-10-biggest-trends-revolutionizing-healthcare-in-2024/)\n",
            "\n",
            "- Latest Trends in Medical Research 2023: From breakthrough discoveries to cutting-edge technologies, medical research continually uncovers new insights.\n",
            "   Link: [Latest Trends in Medical Research 2023](https://www.linkedin.com/pulse/latest-trends-medical-research-2023-vigilare-biopharma-pvt-ltd)\n",
            "\n",
            "- Revolutionizing healthcare: the role of artificial intelligence in clinical settings: This review article explores the current state of AI in healthcare and its utility in clinical settings.\n",
            "   Link: [Revolutionizing healthcare: the role of artificial intelligence in clinical settings](https://bmcmededuc.biomedcentral.com/articles/10.1186/s12909-023-04698-z)\n",
            "\n",
            "- The next generation of evidence-based medicine: Advances in wearable technologies, data science, and machine learning are transforming evidence-based medicine.\n",
            "   Link: [The next generation of evidence-based medicine](https://www.nature.com/articles/s41591-022-02160-z)\n",
            "\n",
            "- 77 interesting medical research topics for 2024: Discover the most interesting topics to explore in medical research and stay updated on new and exciting developments in medicine.\n",
            "   Link: [77 interesting medical research topics for 2024](https://dovetail.com/research/interesting-medical-research-topics/)\u001b[0m\n",
            "\n",
            "\u001b[1m> Finished chain.\u001b[0m\n",
            "\u001b[1m\u001b[92m [DEBUG]: == [professional medical domains, research short summarized , simplified writer for doctors and medical professionals] Task output: - Analysis of Publication Activity and Research Trends in the Field of Medical AI Technologies: Currently, the main areas of research and development in the field of medical AI technologies are diagnostics and prognosis of diseases.\n",
            "   Link: [Analysis of Publication Activity and Research Trends](https://www.ncbi.nlm.nih.gov/pmc/articles/PMC10094658/)\n",
            "\n",
            "- Trends in Health Quality–Related Publications: Over the past 31 years, the field of quality in health care has seen a significant yearly increase of published original studies.\n",
            "   Link: [Trends in Health Quality–Related Publications](https://www.ncbi.nlm.nih.gov/pmc/articles/PMC9579930/)\n",
            "\n",
            "- Unveiling Recent Trends in Biomedical Artificial Intelligence Research: This review analyzes the most influential artificial intelligence (AI) studies in health and life sciences from the past three years.\n",
            "   Link: [Unveiling Recent Trends in Biomedical AI Research](https://www.mdpi.com/2076-3417/14/2/785)\n",
            "\n",
            "- The 10 Biggest Trends Revolutionizing Healthcare In 2024: Transformative trends like generative AI, personalized medicine are shaping the healthcare landscape in 2024.\n",
            "   Link: [The 10 Biggest Trends Revolutionizing Healthcare In 2024](https://www.forbes.com/sites/bernardmarr/2023/10/03/the-10-biggest-trends-revolutionizing-healthcare-in-2024/)\n",
            "\n",
            "- Latest Trends in Medical Research 2023: From breakthrough discoveries to cutting-edge technologies, medical research continually uncovers new insights.\n",
            "   Link: [Latest Trends in Medical Research 2023](https://www.linkedin.com/pulse/latest-trends-medical-research-2023-vigilare-biopharma-pvt-ltd)\n",
            "\n",
            "- Revolutionizing healthcare: the role of artificial intelligence in clinical settings: This review article explores the current state of AI in healthcare and its utility in clinical settings.\n",
            "   Link: [Revolutionizing healthcare: the role of artificial intelligence in clinical settings](https://bmcmededuc.biomedcentral.com/articles/10.1186/s12909-023-04698-z)\n",
            "\n",
            "- The next generation of evidence-based medicine: Advances in wearable technologies, data science, and machine learning are transforming evidence-based medicine.\n",
            "   Link: [The next generation of evidence-based medicine](https://www.nature.com/articles/s41591-022-02160-z)\n",
            "\n",
            "- 77 interesting medical research topics for 2024: Discover the most interesting topics to explore in medical research and stay updated on new and exciting developments in medicine.\n",
            "   Link: [77 interesting medical research topics for 2024](https://dovetail.com/research/interesting-medical-research-topics/)\n",
            "\n",
            "\u001b[00m\n",
            "##################\n",
            "- Analysis of Publication Activity and Research Trends in the Field of Medical AI Technologies: Currently, the main areas of research and development in the field of medical AI technologies are diagnostics and prognosis of diseases.\n",
            "   Link: [Analysis of Publication Activity and Research Trends](https://www.ncbi.nlm.nih.gov/pmc/articles/PMC10094658/)\n",
            "\n",
            "- Trends in Health Quality–Related Publications: Over the past 31 years, the field of quality in health care has seen a significant yearly increase of published original studies.\n",
            "   Link: [Trends in Health Quality–Related Publications](https://www.ncbi.nlm.nih.gov/pmc/articles/PMC9579930/)\n",
            "\n",
            "- Unveiling Recent Trends in Biomedical Artificial Intelligence Research: This review analyzes the most influential artificial intelligence (AI) studies in health and life sciences from the past three years.\n",
            "   Link: [Unveiling Recent Trends in Biomedical AI Research](https://www.mdpi.com/2076-3417/14/2/785)\n",
            "\n",
            "- The 10 Biggest Trends Revolutionizing Healthcare In 2024: Transformative trends like generative AI, personalized medicine are shaping the healthcare landscape in 2024.\n",
            "   Link: [The 10 Biggest Trends Revolutionizing Healthcare In 2024](https://www.forbes.com/sites/bernardmarr/2023/10/03/the-10-biggest-trends-revolutionizing-healthcare-in-2024/)\n",
            "\n",
            "- Latest Trends in Medical Research 2023: From breakthrough discoveries to cutting-edge technologies, medical research continually uncovers new insights.\n",
            "   Link: [Latest Trends in Medical Research 2023](https://www.linkedin.com/pulse/latest-trends-medical-research-2023-vigilare-biopharma-pvt-ltd)\n",
            "\n",
            "- Revolutionizing healthcare: the role of artificial intelligence in clinical settings: This review article explores the current state of AI in healthcare and its utility in clinical settings.\n",
            "   Link: [Revolutionizing healthcare: the role of artificial intelligence in clinical settings](https://bmcmededuc.biomedcentral.com/articles/10.1186/s12909-023-04698-z)\n",
            "\n",
            "- The next generation of evidence-based medicine: Advances in wearable technologies, data science, and machine learning are transforming evidence-based medicine.\n",
            "   Link: [The next generation of evidence-based medicine](https://www.nature.com/articles/s41591-022-02160-z)\n",
            "\n",
            "- 77 interesting medical research topics for 2024: Discover the most interesting topics to explore in medical research and stay updated on new and exciting developments in medicine.\n",
            "   Link: [77 interesting medical research topics for 2024](https://dovetail.com/research/interesting-medical-research-topics/)\n"
          ]
        }
      ]
    },
    {
      "cell_type": "code",
      "source": [],
      "metadata": {
        "id": "nJLBTGPWTxZ8"
      },
      "execution_count": null,
      "outputs": []
    }
  ]
}